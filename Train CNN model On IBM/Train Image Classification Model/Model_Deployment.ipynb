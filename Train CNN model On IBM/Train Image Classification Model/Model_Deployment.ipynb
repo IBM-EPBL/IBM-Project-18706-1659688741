{
 "cells": [
  {
   "cell_type": "code",
   "execution_count": 1,
   "id": "a5ca7d2a",
   "metadata": {},
   "outputs": [
    {
     "name": "stdout",
     "output_type": "stream",
     "text": [
      "Collecting ibm-watson-machine-learning\n",
      "  Downloading ibm_watson_machine_learning-1.0.257-py3-none-any.whl (1.8 MB)\n",
      "     ---------------------------------------- 1.8/1.8 MB 474.3 kB/s eta 0:00:00\n",
      "Requirement already satisfied: ibm-cos-sdk==2.12.* in c:\\users\\manoj\\appdata\\local\\programs\\python\\python310\\lib\\site-packages (from ibm-watson-machine-learning) (2.12.0)\n",
      "Requirement already satisfied: lomond in c:\\users\\manoj\\appdata\\local\\programs\\python\\python310\\lib\\site-packages (from ibm-watson-machine-learning) (0.3.3)\n",
      "Requirement already satisfied: tabulate in c:\\users\\manoj\\appdata\\local\\programs\\python\\python310\\lib\\site-packages (from ibm-watson-machine-learning) (0.9.0)\n",
      "Collecting pandas<1.5.0,>=0.24.2\n",
      "  Downloading pandas-1.4.4-cp310-cp310-win_amd64.whl (10.0 MB)\n",
      "     -------------------------------------- 10.0/10.0 MB 840.6 kB/s eta 0:00:00\n",
      "Requirement already satisfied: requests in c:\\users\\manoj\\appdata\\local\\programs\\python\\python310\\lib\\site-packages (from ibm-watson-machine-learning) (2.28.1)\n",
      "Collecting importlib-metadata\n",
      "  Downloading importlib_metadata-5.0.0-py3-none-any.whl (21 kB)\n",
      "Requirement already satisfied: certifi in c:\\users\\manoj\\appdata\\local\\programs\\python\\python310\\lib\\site-packages (from ibm-watson-machine-learning) (2022.9.24)\n",
      "Requirement already satisfied: urllib3 in c:\\users\\manoj\\appdata\\local\\programs\\python\\python310\\lib\\site-packages (from ibm-watson-machine-learning) (1.26.12)\n",
      "Requirement already satisfied: packaging in c:\\users\\manoj\\appdata\\local\\programs\\python\\python310\\lib\\site-packages (from ibm-watson-machine-learning) (21.3)\n",
      "Requirement already satisfied: jmespath<1.0.0,>=0.10.0 in c:\\users\\manoj\\appdata\\local\\programs\\python\\python310\\lib\\site-packages (from ibm-cos-sdk==2.12.*->ibm-watson-machine-learning) (0.10.0)\n",
      "Requirement already satisfied: ibm-cos-sdk-s3transfer==2.12.0 in c:\\users\\manoj\\appdata\\local\\programs\\python\\python310\\lib\\site-packages (from ibm-cos-sdk==2.12.*->ibm-watson-machine-learning) (2.12.0)\n",
      "Requirement already satisfied: ibm-cos-sdk-core==2.12.0 in c:\\users\\manoj\\appdata\\local\\programs\\python\\python310\\lib\\site-packages (from ibm-cos-sdk==2.12.*->ibm-watson-machine-learning) (2.12.0)\n",
      "Requirement already satisfied: python-dateutil<3.0.0,>=2.8.2 in c:\\users\\manoj\\appdata\\local\\programs\\python\\python310\\lib\\site-packages (from ibm-cos-sdk-core==2.12.0->ibm-cos-sdk==2.12.*->ibm-watson-machine-learning) (2.8.2)\n",
      "Requirement already satisfied: pytz>=2020.1 in c:\\users\\manoj\\appdata\\local\\programs\\python\\python310\\lib\\site-packages (from pandas<1.5.0,>=0.24.2->ibm-watson-machine-learning) (2022.4)\n",
      "Requirement already satisfied: numpy>=1.21.0 in c:\\users\\manoj\\appdata\\local\\programs\\python\\python310\\lib\\site-packages (from pandas<1.5.0,>=0.24.2->ibm-watson-machine-learning) (1.23.2)\n",
      "Requirement already satisfied: idna<4,>=2.5 in c:\\users\\manoj\\appdata\\local\\programs\\python\\python310\\lib\\site-packages (from requests->ibm-watson-machine-learning) (3.4)\n",
      "Requirement already satisfied: charset-normalizer<3,>=2 in c:\\users\\manoj\\appdata\\local\\programs\\python\\python310\\lib\\site-packages (from requests->ibm-watson-machine-learning) (2.1.1)\n",
      "Collecting zipp>=0.5\n",
      "  Downloading zipp-3.10.0-py3-none-any.whl (6.2 kB)\n",
      "Requirement already satisfied: six>=1.10.0 in c:\\users\\manoj\\appdata\\local\\programs\\python\\python310\\lib\\site-packages (from lomond->ibm-watson-machine-learning) (1.16.0)\n",
      "Requirement already satisfied: pyparsing!=3.0.5,>=2.0.2 in c:\\users\\manoj\\appdata\\local\\programs\\python\\python310\\lib\\site-packages (from packaging->ibm-watson-machine-learning) (3.0.9)\n",
      "Installing collected packages: zipp, pandas, importlib-metadata, ibm-watson-machine-learning\n",
      "  Attempting uninstall: pandas\n",
      "    Found existing installation: pandas 1.5.0\n",
      "    Uninstalling pandas-1.5.0:\n",
      "      Successfully uninstalled pandas-1.5.0\n",
      "Successfully installed ibm-watson-machine-learning-1.0.257 importlib-metadata-5.0.0 pandas-1.4.4 zipp-3.10.0\n",
      "Note: you may need to restart the kernel to use updated packages.\n"
     ]
    }
   ],
   "source": [
    "pip install -U ibm-watson-machine-learning"
   ]
  },
  {
   "cell_type": "code",
   "execution_count": 2,
   "id": "2036a20b",
   "metadata": {},
   "outputs": [],
   "source": [
    "from ibm_watson_machine_learning import APIClient\n",
    "wml_credentials = {\n",
    "\t\"url\": \"https://us-south.ml.cloud.ibm.com\",\n",
    "\t\"apikey\": \"mNVF7E95G-awR213njShj1GiUfN-1SpPq-ko8Wx7na1-\"\n",
    "}\n",
    "\n",
    "client = APIClient(wml_credentials)"
   ]
  },
  {
   "cell_type": "code",
   "execution_count": 3,
   "id": "04f0c277",
   "metadata": {},
   "outputs": [],
   "source": [
    "def guid_from_space_name(client, space_name):\n",
    "    space = client.spaces.get_details()\n",
    "    return (next(item for item in space['resources'] if item['entity'][\"name\"] == space_name)['metadata']['id'])"
   ]
  },
  {
   "cell_type": "code",
   "execution_count": 4,
   "id": "b4285da2",
   "metadata": {},
   "outputs": [
    {
     "name": "stdout",
     "output_type": "stream",
     "text": [
      "Space UID :  21c15ae0-ee26-497d-b615-eb30ef2e16fe\n"
     ]
    }
   ],
   "source": [
    "space_uid = guid_from_space_name(client, 'communication_model_deployment')\n",
    "print(\"Space UID : \", space_uid)"
   ]
  },
  {
   "cell_type": "code",
   "execution_count": 5,
   "id": "bbcf43b6",
   "metadata": {},
   "outputs": [
    {
     "data": {
      "text/plain": [
       "'SUCCESS'"
      ]
     },
     "execution_count": 5,
     "metadata": {},
     "output_type": "execute_result"
    }
   ],
   "source": [
    "client.set.default_space(space_uid)"
   ]
  },
  {
   "cell_type": "code",
   "execution_count": 6,
   "id": "4a6ace07",
   "metadata": {},
   "outputs": [
    {
     "name": "stdout",
     "output_type": "stream",
     "text": [
      "Successfully saved model content to file: 'IBM_Model_Download.tar.gz'\n"
     ]
    },
    {
     "data": {
      "text/plain": [
       "'C:\\\\Users\\\\manoj\\\\Desktop\\\\New folder (3)\\\\New folder/IBM_Model_Download.tar.gz'"
      ]
     },
     "execution_count": 6,
     "metadata": {},
     "output_type": "execute_result"
    }
   ],
   "source": [
    "client.repository.download(\"cefca265-2301-4620-897a-9c80d6ff7f1a\",\"IBM_Model_Download.tar.gz\")"
   ]
  },
  {
   "cell_type": "code",
   "execution_count": null,
   "id": "7f7c4ac0",
   "metadata": {},
   "outputs": [],
   "source": []
  }
 ],
 "metadata": {
  "kernelspec": {
   "display_name": "Python 3 (ipykernel)",
   "language": "python",
   "name": "python3"
  },
  "language_info": {
   "codemirror_mode": {
    "name": "ipython",
    "version": 3
   },
   "file_extension": ".py",
   "mimetype": "text/x-python",
   "name": "python",
   "nbconvert_exporter": "python",
   "pygments_lexer": "ipython3",
   "version": "3.10.7"
  }
 },
 "nbformat": 4,
 "nbformat_minor": 5
}
