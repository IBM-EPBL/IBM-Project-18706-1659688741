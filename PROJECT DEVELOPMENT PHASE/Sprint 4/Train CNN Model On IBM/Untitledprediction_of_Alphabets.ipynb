{
 "cells": [
  {
   "cell_type": "code",
   "execution_count": 1,
   "id": "6e566b4c",
   "metadata": {},
   "outputs": [],
   "source": [
    "import numpy as np\n",
    "from tensorflow.keras.models import load_model\n",
    "from tensorflow.keras.preprocessing import image"
   ]
  },
  {
   "cell_type": "code",
   "execution_count": 2,
   "id": "4b8a3a77",
   "metadata": {},
   "outputs": [],
   "source": [
    "class Video(object):\n",
    "\tdef __init__(self):\n",
    "\t\tself.video = cv2.VideoCapture(0)\n",
    "\t\tself.roi_start = (50, 150)\n",
    "\t\tself.roi_end = (250, 350)\n",
    "\t\tself.model = load_model('aslpng.h5') # Execute Local Trained Model\n",
    "\t\t# self.model = load_model('IBM_Communication_Model.h5') # Execute IBM Trained Model\n",
    "\t\tself.index=['A','B','C','D','E','F','G','H','I']\n",
    "\t\tself.y = None"
   ]
  },
  {
   "cell_type": "code",
   "execution_count": null,
   "id": "68a2b69e",
   "metadata": {},
   "outputs": [],
   "source": [
    "def __del__(self):\n",
    "\t\tself.video.release()\n",
    "\tdef get_frame(self):\n",
    "\t\tret,frame = self.video.read()\n",
    "\t\tframe = cv2.resize(frame, (640, 480))\n",
    "\t\tcopy = frame.copy()\n",
    "\t\tcopy = copy[150:150+200,50:50+200]"
   ]
  },
  {
   "cell_type": "code",
   "execution_count": null,
   "id": "86ed21fd",
   "metadata": {},
   "outputs": [],
   "source": [
    "# Prediction Start\n",
    "\t\tcv2.imwrite('image.jpg',copy)\n",
    "\t\tcopy_img = image.load_img('image.jpg', target_size=(64,64))\n",
    "\t\tx = image.img_to_array(copy_img)\n",
    "\t\tx = np.expand_dims(x, axis=0)\n",
    "\t\tpred = np.argmax(self.model.predict(x), axis=1)\n",
    "\t\tself.y = pred[0]\n",
    "\t\tcv2.putText(frame,'The Predicted Alphabet is: '+str(self.index[self.y]),(100,50),cv2.FONT_HERSHEY_SIMPLEX,1,(0,0,0),3)\n",
    "\t\tret,jpg = cv2.imencode('.jpg', frame)\n",
    "\t\treturn jpg.tobytes()"
   ]
  }
 ],
 "metadata": {
  "kernelspec": {
   "display_name": "Python 3 (ipykernel)",
   "language": "python",
   "name": "python3"
  },
  "language_info": {
   "codemirror_mode": {
    "name": "ipython",
    "version": 3
   },
   "file_extension": ".py",
   "mimetype": "text/x-python",
   "name": "python",
   "nbconvert_exporter": "python",
   "pygments_lexer": "ipython3",
   "version": "3.9.12"
  }
 },
 "nbformat": 4,
 "nbformat_minor": 5
}
