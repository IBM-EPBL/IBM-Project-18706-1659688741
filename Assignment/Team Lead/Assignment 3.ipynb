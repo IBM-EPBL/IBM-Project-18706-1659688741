{
 "cells": [
  {
   "cell_type": "markdown",
   "id": "46c00229",
   "metadata": {},
   "source": [
    "# DATA AUGMENTATION"
   ]
  },
  {
   "cell_type": "code",
   "execution_count": 1,
   "id": "987edcf8",
   "metadata": {},
   "outputs": [],
   "source": [
    "from tensorflow.keras.preprocessing.image import ImageDataGenerator"
   ]
  },
  {
   "cell_type": "code",
   "execution_count": 2,
   "id": "27a2f588",
   "metadata": {},
   "outputs": [],
   "source": [
    "train_data_gen = ImageDataGenerator(rescale = 1./255,\n",
    "                                    zoom_range = 0.2,\n",
    "                                    horizontal_flip = True,\n",
    "                                    vertical_flip = True)"
   ]
  },
  {
   "cell_type": "code",
   "execution_count": 3,
   "id": "67f52758",
   "metadata": {},
   "outputs": [],
   "source": [
    "test_datagen = ImageDataGenerator(rescale=1./255)"
   ]
  },
  {
   "cell_type": "code",
   "execution_count": 4,
   "id": "213f1581",
   "metadata": {},
   "outputs": [
    {
     "name": "stdout",
     "output_type": "stream",
     "text": [
      "Found 4312 images belonging to 5 classes.\n"
     ]
    }
   ],
   "source": [
    "xtrain = train_data_gen.flow_from_directory(r\"C:\\Users\\manoj\\Downloads\\IBM\\Data Set\\Flowers-Dataset\\flowers\",target_size=(64,64),\n",
    "                                           class_mode='categorical',\n",
    "                                           batch_size=100)"
   ]
  },
  {
   "cell_type": "code",
   "execution_count": 5,
   "id": "1d0ef912",
   "metadata": {},
   "outputs": [
    {
     "name": "stdout",
     "output_type": "stream",
     "text": [
      "Found 4312 images belonging to 5 classes.\n"
     ]
    }
   ],
   "source": [
    "xtest = test_datagen.flow_from_directory(r\"C:\\Users\\manoj\\Downloads\\IBM\\Data Set\\Flowers-Dataset\\flowers\",\n",
    "                                         target_size=(64,64),\n",
    "                                         class_mode='categorical',\n",
    "                                         batch_size=100)"
   ]
  },
  {
   "cell_type": "code",
   "execution_count": 6,
   "id": "c362da26",
   "metadata": {},
   "outputs": [
    {
     "data": {
      "text/plain": [
       "{'daisy': 0, 'dandelion': 1, 'rose': 2, 'sunflower': 3, 'tulip': 4}"
      ]
     },
     "execution_count": 6,
     "metadata": {},
     "output_type": "execute_result"
    }
   ],
   "source": [
    "xtrain.class_indices"
   ]
  },
  {
   "cell_type": "markdown",
   "id": "851e964a",
   "metadata": {},
   "source": [
    "# CNN MODEL"
   ]
  },
  {
   "cell_type": "code",
   "execution_count": 7,
   "id": "87e62040",
   "metadata": {},
   "outputs": [],
   "source": [
    "from tensorflow.keras.models import Sequential\n",
    "from tensorflow.keras.layers import Convolution2D,MaxPooling2D,Flatten,Dense"
   ]
  },
  {
   "cell_type": "code",
   "execution_count": 8,
   "id": "562b6fc8",
   "metadata": {},
   "outputs": [],
   "source": [
    "model = Sequential()\n",
    "model.add(Convolution2D(32,(3,3),activation = 'relu',input_shape = (64,64,3)))\n",
    "model.add(MaxPooling2D(pool_size = (2,2)))\n",
    "model.add(Flatten())\n",
    "model.add(Dense(300,activation = 'relu'))\n",
    "model.add(Dense(5,activation = 'softmax'))"
   ]
  },
  {
   "cell_type": "code",
   "execution_count": 9,
   "id": "eaa61255",
   "metadata": {},
   "outputs": [],
   "source": [
    "model.compile(optimizer = 'adam',loss = 'categorical_crossentropy',metrics = ['accuracy'])"
   ]
  },
  {
   "cell_type": "code",
   "execution_count": 10,
   "id": "8c5e263a",
   "metadata": {},
   "outputs": [
    {
     "name": "stdout",
     "output_type": "stream",
     "text": [
      "Epoch 1/10\n",
      "44/44 [==============================] - 57s 1s/step - loss: 2.1378 - accuracy: 0.3305 - val_loss: 1.2899 - val_accuracy: 0.4638\n",
      "Epoch 2/10\n",
      "44/44 [==============================] - 51s 1s/step - loss: 1.1900 - accuracy: 0.5179 - val_loss: 1.1060 - val_accuracy: 0.5626\n",
      "Epoch 3/10\n",
      "44/44 [==============================] - 50s 1s/step - loss: 1.0806 - accuracy: 0.5719 - val_loss: 1.0227 - val_accuracy: 0.6000\n",
      "Epoch 4/10\n",
      "44/44 [==============================] - 50s 1s/step - loss: 1.0213 - accuracy: 0.6032 - val_loss: 1.0365 - val_accuracy: 0.6009\n",
      "Epoch 5/10\n",
      "44/44 [==============================] - 50s 1s/step - loss: 0.9728 - accuracy: 0.6180 - val_loss: 0.9644 - val_accuracy: 0.6313\n",
      "Epoch 6/10\n",
      "44/44 [==============================] - 51s 1s/step - loss: 0.9517 - accuracy: 0.6378 - val_loss: 0.9594 - val_accuracy: 0.6340\n",
      "Epoch 7/10\n",
      "44/44 [==============================] - 49s 1s/step - loss: 0.9145 - accuracy: 0.6496 - val_loss: 0.8828 - val_accuracy: 0.6686\n",
      "Epoch 8/10\n",
      "44/44 [==============================] - 49s 1s/step - loss: 0.8920 - accuracy: 0.6591 - val_loss: 0.8792 - val_accuracy: 0.6670\n",
      "Epoch 9/10\n",
      "44/44 [==============================] - 49s 1s/step - loss: 0.8672 - accuracy: 0.6658 - val_loss: 0.8298 - val_accuracy: 0.6876\n",
      "Epoch 10/10\n",
      "44/44 [==============================] - 48s 1s/step - loss: 0.8498 - accuracy: 0.6688 - val_loss: 0.8880 - val_accuracy: 0.6623\n"
     ]
    },
    {
     "data": {
      "text/plain": [
       "<keras.callbacks.History at 0x1e0cd08ca60>"
      ]
     },
     "execution_count": 10,
     "metadata": {},
     "output_type": "execute_result"
    }
   ],
   "source": [
    "model.fit(xtrain, steps_per_epoch = len(xtrain),epochs = 10,\n",
    "          validation_data = xtest,validation_steps = len(xtest))"
   ]
  },
  {
   "cell_type": "markdown",
   "id": "3f2e7aae",
   "metadata": {},
   "source": [
    "# MODEL TUNING"
   ]
  },
  {
   "cell_type": "code",
   "execution_count": 11,
   "id": "f32ae9e8",
   "metadata": {},
   "outputs": [],
   "source": [
    "from keras.callbacks import EarlyStopping, ReduceLROnPlateau\n",
    "early_stopping = EarlyStopping(monitor='val_accuracy',\n",
    "                        patience=5)\n",
    "reduce_lr = ReduceLROnPlateau(monitor='val_accuracy',\n",
    "                        patience=5,\n",
    "                        factor=0.5,min_lr=0.00001)\n",
    "\n",
    "callback = [reduce_lr,early_stopping]"
   ]
  },
  {
   "cell_type": "code",
   "execution_count": 12,
   "id": "3815c085",
   "metadata": {},
   "outputs": [
    {
     "name": "stderr",
     "output_type": "stream",
     "text": [
      "C:\\Users\\manoj\\AppData\\Local\\Temp\\ipykernel_32400\\147617075.py:1: UserWarning: `Model.fit_generator` is deprecated and will be removed in a future version. Please use `Model.fit`, which supports generators.\n",
      "  model.fit_generator(xtrain,steps_per_epoch=len(xtrain),epochs=10,callbacks=callback,validation_data=xtest,validation_steps=len(xtest))\n"
     ]
    },
    {
     "name": "stdout",
     "output_type": "stream",
     "text": [
      "Epoch 1/10\n",
      "44/44 [==============================] - 50s 1s/step - loss: 0.8099 - accuracy: 0.6897 - val_loss: 0.8251 - val_accuracy: 0.6892 - lr: 0.0010\n",
      "Epoch 2/10\n",
      "44/44 [==============================] - 48s 1s/step - loss: 0.8166 - accuracy: 0.6830 - val_loss: 0.8042 - val_accuracy: 0.6962 - lr: 0.0010\n",
      "Epoch 3/10\n",
      "44/44 [==============================] - 48s 1s/step - loss: 0.7979 - accuracy: 0.6913 - val_loss: 0.8064 - val_accuracy: 0.6939 - lr: 0.0010\n",
      "Epoch 4/10\n",
      "44/44 [==============================] - 49s 1s/step - loss: 0.7756 - accuracy: 0.6946 - val_loss: 0.8164 - val_accuracy: 0.6939 - lr: 0.0010\n",
      "Epoch 5/10\n",
      "44/44 [==============================] - 37s 841ms/step - loss: 0.7647 - accuracy: 0.7110 - val_loss: 0.7444 - val_accuracy: 0.7192 - lr: 0.0010\n",
      "Epoch 6/10\n",
      "44/44 [==============================] - 20s 456ms/step - loss: 0.7390 - accuracy: 0.7145 - val_loss: 0.8175 - val_accuracy: 0.6974 - lr: 0.0010\n",
      "Epoch 7/10\n",
      "44/44 [==============================] - 20s 448ms/step - loss: 0.7320 - accuracy: 0.7222 - val_loss: 0.8160 - val_accuracy: 0.6974 - lr: 0.0010\n",
      "Epoch 8/10\n",
      "44/44 [==============================] - 20s 449ms/step - loss: 0.7357 - accuracy: 0.7224 - val_loss: 0.7254 - val_accuracy: 0.7243 - lr: 0.0010\n",
      "Epoch 9/10\n",
      "44/44 [==============================] - 21s 469ms/step - loss: 0.6942 - accuracy: 0.7407 - val_loss: 0.7126 - val_accuracy: 0.7277 - lr: 0.0010\n",
      "Epoch 10/10\n",
      "44/44 [==============================] - 21s 480ms/step - loss: 0.7064 - accuracy: 0.7359 - val_loss: 0.6762 - val_accuracy: 0.7442 - lr: 0.0010\n"
     ]
    },
    {
     "data": {
      "text/plain": [
       "<keras.callbacks.History at 0x1e0ccac07f0>"
      ]
     },
     "execution_count": 12,
     "metadata": {},
     "output_type": "execute_result"
    }
   ],
   "source": [
    "model.fit_generator(xtrain,steps_per_epoch=len(xtrain),epochs=10,callbacks=callback,validation_data=xtest,validation_steps=len(xtest))"
   ]
  },
  {
   "cell_type": "markdown",
   "id": "1ad17e4f",
   "metadata": {},
   "source": [
    "# SAVING THE MODEL"
   ]
  },
  {
   "cell_type": "code",
   "execution_count": 13,
   "id": "1a131ba3",
   "metadata": {},
   "outputs": [],
   "source": [
    "model.save(\"flowerss.h5\")"
   ]
  },
  {
   "cell_type": "markdown",
   "id": "584ba07f",
   "metadata": {},
   "source": [
    "# TESTING THE MODEL"
   ]
  },
  {
   "cell_type": "code",
   "execution_count": 14,
   "id": "d2c772c1",
   "metadata": {},
   "outputs": [],
   "source": [
    "from tensorflow.keras.models import load_model\n",
    "from tensorflow.keras.preprocessing import image\n",
    "import numpy as np"
   ]
  },
  {
   "cell_type": "code",
   "execution_count": 15,
   "id": "18ff1b81",
   "metadata": {},
   "outputs": [],
   "source": [
    "model = load_model(\"flowerss.h5\")"
   ]
  },
  {
   "cell_type": "code",
   "execution_count": 16,
   "id": "acc8bae6",
   "metadata": {},
   "outputs": [],
   "source": [
    "img = image.load_img(\"3466923719_b4b6df7f8b_n.jpg\",target_size = (150,150))"
   ]
  },
  {
   "cell_type": "code",
   "execution_count": 17,
   "id": "6b5f8cd3",
   "metadata": {},
   "outputs": [
    {
     "data": {
      "image/png": "[encoded data removed]",
      "text/plain": [
       "<PIL.Image.Image image mode=RGB size=150x150>"
      ]
     },
     "execution_count": 17,
     "metadata": {},
     "output_type": "execute_result"
    }
   ],
   "source": [
    "img"
   ]
  },
  {
   "cell_type": "code",
   "execution_count": 18,
   "id": "35ca16ce",
   "metadata": {},
   "outputs": [
    {
     "name": "stdout",
     "output_type": "stream",
     "text": [
      "1/1 [==============================] - 0s 105ms/step\n"
     ]
    },
    {
     "data": {
      "text/plain": [
       "'tulip'"
      ]
     },
     "execution_count": 18,
     "metadata": {},
     "output_type": "execute_result"
    }
   ],
   "source": [
    "img = image.load_img(\"100930342_92e8746431_n.jpg\",target_size = (64,64))\n",
    "x = image.img_to_array(img)\n",
    "x = np.expand_dims(x,axis = 0)\n",
    "pred = np.argmax(model.predict(x))\n",
    "op = ['daisy','dandelion','rose','sunflower','tulip']\n",
    "op[pred]"
   ]
  },
  {
   "cell_type": "code",
   "execution_count": 19,
   "id": "b37d16cc",
   "metadata": {},
   "outputs": [
    {
     "name": "stdout",
     "output_type": "stream",
     "text": [
      "1/1 [==============================] - 0s 23ms/step\n"
     ]
    },
    {
     "data": {
      "text/plain": [
       "'daisy'"
      ]
     },
     "execution_count": 19,
     "metadata": {},
     "output_type": "execute_result"
    }
   ],
   "source": [
    "img = image.load_img(\"13920113_f03e867ea7_m.jpg\",target_size = (64,64))\n",
    "x = image.img_to_array(img)\n",
    "x = np.expand_dims(x,axis = 0)\n",
    "pred = np.argmax(model.predict(x))\n",
    "op = ['daisy','dandelion','rose','sunflower','tulip']\n",
    "op[pred]"
   ]
  },
  {
   "cell_type": "code",
   "execution_count": null,
   "id": "0e31d026",
   "metadata": {},
   "outputs": [],
   "source": []
  }
 ],
 "metadata": {
  "kernelspec": {
   "display_name": "Python 3 (ipykernel)",
   "language": "python",
   "name": "python3"
  },
  "language_info": {
   "codemirror_mode": {
    "name": "ipython",
    "version": 3
   },
   "file_extension": ".py",
   "mimetype": "text/x-python",
   "name": "python",
   "nbconvert_exporter": "python",
   "pygments_lexer": "ipython3",
   "version": "3.10.7"
  }
 },
 "nbformat": 4,
 "nbformat_minor": 5
}
