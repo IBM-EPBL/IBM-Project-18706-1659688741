{
 "cells": [
  {
   "cell_type": "markdown",
   "id": "6986c01e",
   "metadata": {},
   "source": [
    "# DATA AUGMENTATION"
   ]
  },
  {
   "cell_type": "code",
   "execution_count": 1,
   "id": "18319174",
   "metadata": {},
   "outputs": [],
   "source": [
    "from tensorflow.keras.preprocessing.image import ImageDataGenerator\n"
   ]
  },
  {
   "cell_type": "code",
   "execution_count": 2,
   "id": "907506df",
   "metadata": {},
   "outputs": [],
   "source": [
    "train_data_gen = ImageDataGenerator(rescale = 1./255,\n",
    "                                    zoom_range = 0.2,\n",
    "                                    horizontal_flip = True,\n",
    "                                    vertical_flip = True)"
   ]
  },
  {
   "cell_type": "code",
   "execution_count": 3,
   "id": "35638bde",
   "metadata": {},
   "outputs": [],
   "source": [
    "test_datagen = ImageDataGenerator(rescale=1./255)"
   ]
  },
  {
   "cell_type": "code",
   "execution_count": 4,
   "id": "c575fde0",
   "metadata": {},
   "outputs": [
    {
     "name": "stdout",
     "output_type": "stream",
     "text": [
      "Found 4317 images belonging to 5 classes.\n"
     ]
    }
   ],
   "source": [
    "xtrain = train_data_gen.flow_from_directory(r\"C:\\Users\\STUDENT\\flowers\",target_size=(64,64),\n",
    "                                           class_mode='categorical',\n",
    "                                           batch_size=100)"
   ]
  },
  {
   "cell_type": "code",
   "execution_count": 5,
   "id": "9b1cb7ed",
   "metadata": {},
   "outputs": [
    {
     "name": "stdout",
     "output_type": "stream",
     "text": [
      "Found 4317 images belonging to 5 classes.\n"
     ]
    }
   ],
   "source": [
    "xtest = test_datagen.flow_from_directory(r\"C:\\Users\\STUDENT\\flowers\",\n",
    "                                         target_size=(64,64),\n",
    "                                         class_mode='categorical',\n",
    "                                         batch_size=100)"
   ]
  },
  {
   "cell_type": "code",
   "execution_count": 6,
   "id": "93281c02",
   "metadata": {},
   "outputs": [
    {
     "data": {
      "text/plain": [
       "{'daisy': 0, 'dandelion': 1, 'rose': 2, 'sunflower': 3, 'tulip': 4}"
      ]
     },
     "execution_count": 6,
     "metadata": {},
     "output_type": "execute_result"
    }
   ],
   "source": [
    "xtrain.class_indices"
   ]
  },
  {
   "cell_type": "markdown",
   "id": "3361db01",
   "metadata": {},
   "source": [
    "# CNN MODEL"
   ]
  },
  {
   "cell_type": "code",
   "execution_count": 7,
   "id": "8cf02a04",
   "metadata": {},
   "outputs": [],
   "source": [
    "from tensorflow.keras.models import Sequential\n",
    "from tensorflow.keras.layers import Convolution2D,MaxPooling2D,Flatten,Dense"
   ]
  },
  {
   "cell_type": "code",
   "execution_count": 8,
   "id": "bd2d3fda",
   "metadata": {},
   "outputs": [],
   "source": [
    "model = Sequential()\n",
    "model.add(Convolution2D(32,(3,3),activation = 'relu',input_shape = (64,64,3)))\n",
    "model.add(MaxPooling2D(pool_size = (2,2)))\n",
    "model.add(Flatten())\n",
    "model.add(Dense(300,activation = 'relu'))\n",
    "model.add(Dense(5,activation = 'softmax'))"
   ]
  },
  {
   "cell_type": "code",
   "execution_count": 9,
   "id": "cf604d4f",
   "metadata": {},
   "outputs": [],
   "source": [
    "model.compile(optimizer = 'adam',loss = 'categorical_crossentropy',metrics = ['accuracy'])"
   ]
  },
  {
   "cell_type": "code",
   "execution_count": 10,
   "id": "332d6f95",
   "metadata": {
    "scrolled": true
   },
   "outputs": [
    {
     "name": "stdout",
     "output_type": "stream",
     "text": [
      "Epoch 1/10\n",
      "44/44 [==============================] - 42s 947ms/step - loss: 1.8975 - accuracy: 0.4072 - val_loss: 1.1988 - val_accuracy: 0.5138\n",
      "Epoch 2/10\n",
      "44/44 [==============================] - 20s 456ms/step - loss: 1.1355 - accuracy: 0.5344 - val_loss: 1.1419 - val_accuracy: 0.5495\n",
      "Epoch 3/10\n",
      "44/44 [==============================] - 19s 442ms/step - loss: 1.0621 - accuracy: 0.5856 - val_loss: 1.0478 - val_accuracy: 0.5884\n",
      "Epoch 4/10\n",
      "44/44 [==============================] - 19s 445ms/step - loss: 1.0030 - accuracy: 0.6145 - val_loss: 1.0467 - val_accuracy: 0.5986\n",
      "Epoch 5/10\n",
      "44/44 [==============================] - 19s 440ms/step - loss: 0.9586 - accuracy: 0.6227 - val_loss: 0.9182 - val_accuracy: 0.6511\n",
      "Epoch 6/10\n",
      "44/44 [==============================] - 20s 446ms/step - loss: 0.9106 - accuracy: 0.6555 - val_loss: 0.8742 - val_accuracy: 0.6694\n",
      "Epoch 7/10\n",
      "44/44 [==============================] - 19s 442ms/step - loss: 0.8881 - accuracy: 0.6558 - val_loss: 0.8718 - val_accuracy: 0.6694\n",
      "Epoch 8/10\n",
      "44/44 [==============================] - 19s 439ms/step - loss: 0.8701 - accuracy: 0.6648 - val_loss: 0.9484 - val_accuracy: 0.6298\n",
      "Epoch 9/10\n",
      "44/44 [==============================] - 19s 440ms/step - loss: 0.8484 - accuracy: 0.6646 - val_loss: 0.8713 - val_accuracy: 0.6773\n",
      "Epoch 10/10\n",
      "44/44 [==============================] - 19s 441ms/step - loss: 0.8287 - accuracy: 0.6778 - val_loss: 0.8761 - val_accuracy: 0.6539\n"
     ]
    },
    {
     "data": {
      "text/plain": [
       "<keras.callbacks.History at 0x27848013880>"
      ]
     },
     "execution_count": 10,
     "metadata": {},
     "output_type": "execute_result"
    }
   ],
   "source": [
    "model.fit(xtrain, steps_per_epoch = len(xtrain),epochs = 10,\n",
    "          validation_data = xtest,validation_steps = len(xtest))"
   ]
  },
  {
   "cell_type": "markdown",
   "id": "d5d49ab5",
   "metadata": {},
   "source": [
    "# MODEL TUNING"
   ]
  },
  {
   "cell_type": "code",
   "execution_count": 11,
   "id": "a9477cfd",
   "metadata": {},
   "outputs": [],
   "source": [
    "from keras.callbacks import EarlyStopping, ReduceLROnPlateau\n",
    "early_stopping = EarlyStopping(monitor='val_accuracy',\n",
    "                        patience=5)\n",
    "reduce_lr = ReduceLROnPlateau(monitor='val_accuracy',\n",
    "                        patience=5,\n",
    "                        factor=0.5,min_lr=0.00001)\n",
    "\n",
    "callback = [reduce_lr,early_stopping]"
   ]
  },
  {
   "cell_type": "code",
   "execution_count": 12,
   "id": "2837e8dc",
   "metadata": {},
   "outputs": [
    {
     "name": "stderr",
     "output_type": "stream",
     "text": [
      "C:\\Users\\STUDENT\\AppData\\Local\\Temp\\ipykernel_10060\\147617075.py:1: UserWarning: `Model.fit_generator` is deprecated and will be removed in a future version. Please use `Model.fit`, which supports generators.\n",
      "  model.fit_generator(xtrain,steps_per_epoch=len(xtrain),epochs=10,callbacks=callback,validation_data=xtest,validation_steps=len(xtest))\n"
     ]
    },
    {
     "name": "stdout",
     "output_type": "stream",
     "text": [
      "Epoch 1/10\n",
      "44/44 [==============================] - 20s 453ms/step - loss: 0.7952 - accuracy: 0.6938 - val_loss: 0.8227 - val_accuracy: 0.6921 - lr: 0.0010\n",
      "Epoch 2/10\n",
      "44/44 [==============================] - 19s 436ms/step - loss: 0.7721 - accuracy: 0.7035 - val_loss: 0.7456 - val_accuracy: 0.7216 - lr: 0.0010\n",
      "Epoch 3/10\n",
      "44/44 [==============================] - 19s 437ms/step - loss: 0.7838 - accuracy: 0.6961 - val_loss: 0.6922 - val_accuracy: 0.7429 - lr: 0.0010\n",
      "Epoch 4/10\n",
      "44/44 [==============================] - 20s 446ms/step - loss: 0.7552 - accuracy: 0.7139 - val_loss: 0.7291 - val_accuracy: 0.7234 - lr: 0.0010\n",
      "Epoch 5/10\n",
      "44/44 [==============================] - 20s 448ms/step - loss: 0.7457 - accuracy: 0.7146 - val_loss: 0.7806 - val_accuracy: 0.7079 - lr: 0.0010\n",
      "Epoch 6/10\n",
      "44/44 [==============================] - 19s 444ms/step - loss: 0.7261 - accuracy: 0.7253 - val_loss: 0.7059 - val_accuracy: 0.7359 - lr: 0.0010\n",
      "Epoch 7/10\n",
      "44/44 [==============================] - 19s 435ms/step - loss: 0.7046 - accuracy: 0.7294 - val_loss: 0.8327 - val_accuracy: 0.6977 - lr: 0.0010\n",
      "Epoch 8/10\n",
      "44/44 [==============================] - 19s 437ms/step - loss: 0.7049 - accuracy: 0.7274 - val_loss: 0.6435 - val_accuracy: 0.7538 - lr: 0.0010\n",
      "Epoch 9/10\n",
      "44/44 [==============================] - 19s 438ms/step - loss: 0.6828 - accuracy: 0.7369 - val_loss: 0.7066 - val_accuracy: 0.7327 - lr: 0.0010\n",
      "Epoch 10/10\n",
      "44/44 [==============================] - 19s 436ms/step - loss: 0.6902 - accuracy: 0.7385 - val_loss: 0.6544 - val_accuracy: 0.7521 - lr: 0.0010\n"
     ]
    },
    {
     "data": {
      "text/plain": [
       "<keras.callbacks.History at 0x27847f910a0>"
      ]
     },
     "execution_count": 12,
     "metadata": {},
     "output_type": "execute_result"
    }
   ],
   "source": [
    "model.fit_generator(xtrain,steps_per_epoch=len(xtrain),epochs=10,callbacks=callback,validation_data=xtest,validation_steps=len(xtest))"
   ]
  },
  {
   "cell_type": "markdown",
   "id": "d65fc35d",
   "metadata": {},
   "source": [
    "# SAVING THE MODEL"
   ]
  },
  {
   "cell_type": "code",
   "execution_count": 13,
   "id": "b118084f",
   "metadata": {},
   "outputs": [],
   "source": [
    "model.save(\"flowerss.h5\")"
   ]
  },
  {
   "cell_type": "markdown",
   "id": "5a8a65f7",
   "metadata": {},
   "source": [
    "# TESTING THE MODEL"
   ]
  },
  {
   "cell_type": "code",
   "execution_count": 14,
   "id": "b99a8127",
   "metadata": {},
   "outputs": [],
   "source": [
    "from tensorflow.keras.models import load_model\n",
    "from tensorflow.keras.preprocessing import image\n",
    "import numpy as np"
   ]
  },
  {
   "cell_type": "code",
   "execution_count": 15,
   "id": "c50388a2",
   "metadata": {},
   "outputs": [],
   "source": [
    "model = load_model(\"flowerss.h5\")"
   ]
  },
  {
   "cell_type": "code",
   "execution_count": 21,
   "id": "565ac14f",
   "metadata": {},
   "outputs": [],
   "source": [
    "img = image.load_img(\"99306615_739eb94b9e_m.jpg\",target_size = (150,150))"
   ]
  },
  {
   "cell_type": "code",
   "execution_count": 22,
   "id": "629449af",
   "metadata": {},
   "outputs": [
    {
     "data": {
      "image/png": "[encoded data removed]",
      "text/plain": [
       "<PIL.Image.Image image mode=RGB size=150x150 at 0x2784C303CD0>"
      ]
     },
     "execution_count": 22,
     "metadata": {},
     "output_type": "execute_result"
    }
   ],
   "source": [
    "img"
   ]
  },
  {
   "cell_type": "code",
   "execution_count": 23,
   "id": "8920b47a",
   "metadata": {},
   "outputs": [
    {
     "name": "stdout",
     "output_type": "stream",
     "text": [
      "1/1 [==============================] - 0s 31ms/step\n"
     ]
    },
    {
     "data": {
      "text/plain": [
       "'tulip'"
      ]
     },
     "execution_count": 23,
     "metadata": {},
     "output_type": "execute_result"
    }
   ],
   "source": [
    "img = image.load_img(\"112428919_f0c5ad7d9d_n.jpg\",target_size = (64,64))\n",
    "x = image.img_to_array(img)\n",
    "x = np.expand_dims(x,axis = 0)\n",
    "pred = np.argmax(model.predict(x))\n",
    "op = ['daisy','dandelion','rose','sunflower','tulip']\n",
    "op[pred]"
   ]
  },
  {
   "cell_type": "code",
   "execution_count": 24,
   "id": "c1e2252d",
   "metadata": {},
   "outputs": [
    {
     "name": "stdout",
     "output_type": "stream",
     "text": [
      "1/1 [==============================] - 0s 17ms/step\n"
     ]
    },
    {
     "data": {
      "text/plain": [
       "'daisy'"
      ]
     },
     "execution_count": 24,
     "metadata": {},
     "output_type": "execute_result"
    }
   ],
   "source": [
    "img = image.load_img(\"10919961_0af657c4e8.jpg\",target_size = (64,64))\n",
    "x = image.img_to_array(img)\n",
    "x = np.expand_dims(x,axis = 0)\n",
    "pred = np.argmax(model.predict(x))\n",
    "op = ['daisy','dandelion','rose','sunflower','tulip']\n",
    "op[pred]\n"
   ]
  },
  {
   "cell_type": "code",
   "execution_count": null,
   "id": "8288238f",
   "metadata": {},
   "outputs": [],
   "source": []
  }
 ],
 "metadata": {
  "kernelspec": {
   "display_name": "Python 3 (ipykernel)",
   "language": "python",
   "name": "python3"
  },
  "language_info": {
   "codemirror_mode": {
    "name": "ipython",
    "version": 3
   },
   "file_extension": ".py",
   "mimetype": "text/x-python",
   "name": "python",
   "nbconvert_exporter": "python",
   "pygments_lexer": "ipython3",
   "version": "3.10.7"
  }
 },
 "nbformat": 4,
 "nbformat_minor": 5
}
