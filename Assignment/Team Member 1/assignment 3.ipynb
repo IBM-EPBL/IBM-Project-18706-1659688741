{
 "cells": [
  {
   "cell_type": "code",
   "execution_count": 9,
   "id": "eb1c187d",
   "metadata": {},
   "outputs": [
    {
     "name": "stdout",
     "output_type": "stream",
     "text": [
      "Requirement already satisfied: tensorflow in e:\\anaconda\\lib\\site-packages (2.10.0)\n",
      "Requirement already satisfied: keras-preprocessing>=1.1.1 in e:\\anaconda\\lib\\site-packages (from tensorflow) (1.1.2)\n",
      "Requirement already satisfied: keras<2.11,>=2.10.0 in e:\\anaconda\\lib\\site-packages (from tensorflow) (2.10.0)\n",
      "Requirement already satisfied: setuptools in e:\\anaconda\\lib\\site-packages (from tensorflow) (58.0.4)\n",
      "Requirement already satisfied: termcolor>=1.1.0 in e:\\anaconda\\lib\\site-packages (from tensorflow) (2.1.0)\n",
      "Requirement already satisfied: typing-extensions>=3.6.6 in e:\\anaconda\\lib\\site-packages (from tensorflow) (3.10.0.2)\n",
      "Requirement already satisfied: tensorflow-estimator<2.11,>=2.10.0 in e:\\anaconda\\lib\\site-packages (from tensorflow) (2.10.0)\n",
      "Requirement already satisfied: h5py>=2.9.0 in e:\\anaconda\\lib\\site-packages (from tensorflow) (3.2.1)\n",
      "Requirement already satisfied: tensorboard<2.11,>=2.10 in e:\\anaconda\\lib\\site-packages (from tensorflow) (2.10.1)\n",
      "Requirement already satisfied: libclang>=13.0.0 in e:\\anaconda\\lib\\site-packages (from tensorflow) (14.0.6)\n",
      "Requirement already satisfied: google-pasta>=0.1.1 in e:\\anaconda\\lib\\site-packages (from tensorflow) (0.2.0)\n",
      "Requirement already satisfied: grpcio<2.0,>=1.24.3 in e:\\anaconda\\lib\\site-packages (from tensorflow) (1.50.0)\n",
      "Requirement already satisfied: flatbuffers>=2.0 in e:\\anaconda\\lib\\site-packages (from tensorflow) (22.10.26)\n",
      "Requirement already satisfied: wrapt>=1.11.0 in e:\\anaconda\\lib\\site-packages (from tensorflow) (1.12.1)\n",
      "Requirement already satisfied: protobuf<3.20,>=3.9.2 in e:\\anaconda\\lib\\site-packages (from tensorflow) (3.19.6)\n",
      "Requirement already satisfied: astunparse>=1.6.0 in e:\\anaconda\\lib\\site-packages (from tensorflow) (1.6.3)\n",
      "Requirement already satisfied: absl-py>=1.0.0 in e:\\anaconda\\lib\\site-packages (from tensorflow) (1.3.0)\n",
      "Requirement already satisfied: tensorflow-io-gcs-filesystem>=0.23.1 in e:\\anaconda\\lib\\site-packages (from tensorflow) (0.27.0)\n",
      "Requirement already satisfied: gast<=0.4.0,>=0.2.1 in e:\\anaconda\\lib\\site-packages (from tensorflow) (0.4.0)\n",
      "Requirement already satisfied: packaging in e:\\anaconda\\lib\\site-packages (from tensorflow) (21.0)\n",
      "Requirement already satisfied: numpy>=1.20 in e:\\anaconda\\lib\\site-packages (from tensorflow) (1.20.3)\n",
      "Requirement already satisfied: six>=1.12.0 in e:\\anaconda\\lib\\site-packages (from tensorflow) (1.16.0)\n",
      "Requirement already satisfied: opt-einsum>=2.3.2 in e:\\anaconda\\lib\\site-packages (from tensorflow) (3.3.0)\n",
      "Requirement already satisfied: wheel<1.0,>=0.23.0 in e:\\anaconda\\lib\\site-packages (from astunparse>=1.6.0->tensorflow) (0.37.0)\n",
      "Requirement already satisfied: google-auth<3,>=1.6.3 in e:\\anaconda\\lib\\site-packages (from tensorboard<2.11,>=2.10->tensorflow) (2.14.0)\n",
      "Requirement already satisfied: werkzeug>=1.0.1 in e:\\anaconda\\lib\\site-packages (from tensorboard<2.11,>=2.10->tensorflow) (2.0.2)\n",
      "Requirement already satisfied: markdown>=2.6.8 in e:\\anaconda\\lib\\site-packages (from tensorboard<2.11,>=2.10->tensorflow) (3.4.1)\n",
      "Requirement already satisfied: tensorboard-plugin-wit>=1.6.0 in e:\\anaconda\\lib\\site-packages (from tensorboard<2.11,>=2.10->tensorflow) (1.8.1)\n",
      "Requirement already satisfied: tensorboard-data-server<0.7.0,>=0.6.0 in e:\\anaconda\\lib\\site-packages (from tensorboard<2.11,>=2.10->tensorflow) (0.6.1)\n",
      "Requirement already satisfied: google-auth-oauthlib<0.5,>=0.4.1 in e:\\anaconda\\lib\\site-packages (from tensorboard<2.11,>=2.10->tensorflow) (0.4.6)\n",
      "Requirement already satisfied: requests<3,>=2.21.0 in e:\\anaconda\\lib\\site-packages (from tensorboard<2.11,>=2.10->tensorflow) (2.26.0)\n",
      "Requirement already satisfied: rsa<5,>=3.1.4 in e:\\anaconda\\lib\\site-packages (from google-auth<3,>=1.6.3->tensorboard<2.11,>=2.10->tensorflow) (4.9)\n",
      "Requirement already satisfied: cachetools<6.0,>=2.0.0 in e:\\anaconda\\lib\\site-packages (from google-auth<3,>=1.6.3->tensorboard<2.11,>=2.10->tensorflow) (5.2.0)\n",
      "Requirement already satisfied: pyasn1-modules>=0.2.1 in e:\\anaconda\\lib\\site-packages (from google-auth<3,>=1.6.3->tensorboard<2.11,>=2.10->tensorflow) (0.2.8)\n",
      "Requirement already satisfied: requests-oauthlib>=0.7.0 in e:\\anaconda\\lib\\site-packages (from google-auth-oauthlib<0.5,>=0.4.1->tensorboard<2.11,>=2.10->tensorflow) (1.3.1)\n",
      "Requirement already satisfied: importlib-metadata>=4.4 in e:\\anaconda\\lib\\site-packages (from markdown>=2.6.8->tensorboard<2.11,>=2.10->tensorflow) (4.8.1)\n",
      "Requirement already satisfied: zipp>=0.5 in e:\\anaconda\\lib\\site-packages (from importlib-metadata>=4.4->markdown>=2.6.8->tensorboard<2.11,>=2.10->tensorflow) (3.6.0)\n",
      "Requirement already satisfied: pyasn1<0.5.0,>=0.4.6 in e:\\anaconda\\lib\\site-packages (from pyasn1-modules>=0.2.1->google-auth<3,>=1.6.3->tensorboard<2.11,>=2.10->tensorflow) (0.4.8)\n",
      "Requirement already satisfied: idna<4,>=2.5 in e:\\anaconda\\lib\\site-packages (from requests<3,>=2.21.0->tensorboard<2.11,>=2.10->tensorflow) (3.2)\n",
      "Requirement already satisfied: urllib3<1.27,>=1.21.1 in e:\\anaconda\\lib\\site-packages (from requests<3,>=2.21.0->tensorboard<2.11,>=2.10->tensorflow) (1.26.7)\n",
      "Requirement already satisfied: certifi>=2017.4.17 in e:\\anaconda\\lib\\site-packages (from requests<3,>=2.21.0->tensorboard<2.11,>=2.10->tensorflow) (2021.10.8)\n",
      "Requirement already satisfied: charset-normalizer~=2.0.0 in e:\\anaconda\\lib\\site-packages (from requests<3,>=2.21.0->tensorboard<2.11,>=2.10->tensorflow) (2.0.4)\n",
      "Requirement already satisfied: oauthlib>=3.0.0 in e:\\anaconda\\lib\\site-packages (from requests-oauthlib>=0.7.0->google-auth-oauthlib<0.5,>=0.4.1->tensorboard<2.11,>=2.10->tensorflow) (3.2.2)\n",
      "Requirement already satisfied: pyparsing>=2.0.2 in e:\\anaconda\\lib\\site-packages (from packaging->tensorflow) (3.0.4)\n"
     ]
    }
   ],
   "source": [
    "!pip install tensorflow"
   ]
  },
  {
   "cell_type": "code",
   "execution_count": 10,
   "id": "36fcdffb",
   "metadata": {},
   "outputs": [
    {
     "name": "stdout",
     "output_type": "stream",
     "text": [
      "Requirement already satisfied: keras in e:\\anaconda\\lib\\site-packages (2.10.0)\n"
     ]
    }
   ],
   "source": [
    "!pip install keras"
   ]
  },
  {
   "cell_type": "code",
   "execution_count": 11,
   "id": "56f9b624",
   "metadata": {},
   "outputs": [
    {
     "name": "stdout",
     "output_type": "stream",
     "text": [
      "Collecting opencv-python\n",
      "  Using cached opencv_python-4.6.0.66-cp36-abi3-win_amd64.whl (35.6 MB)\n",
      "Requirement already satisfied: numpy>=1.14.5 in e:\\anaconda\\lib\\site-packages (from opencv-python) (1.20.3)\n",
      "Installing collected packages: opencv-python\n",
      "Successfully installed opencv-python-4.6.0.66\n"
     ]
    }
   ],
   "source": [
    "!pip install opencv-python"
   ]
  },
  {
   "cell_type": "code",
   "execution_count": 12,
   "id": "a888afcd",
   "metadata": {},
   "outputs": [
    {
     "name": "stdout",
     "output_type": "stream",
     "text": [
      "Collecting imutils\n",
      "  Using cached imutils-0.5.4.tar.gz (17 kB)\n",
      "Building wheels for collected packages: imutils\n",
      "  Building wheel for imutils (setup.py): started\n",
      "  Building wheel for imutils (setup.py): finished with status 'done'\n",
      "  Created wheel for imutils: filename=imutils-0.5.4-py3-none-any.whl size=25860 sha256=5672a42e710b3b16ac744e92ddef1aa14406f53956b516a6f752eedb9c9ecefe\n",
      "  Stored in directory: c:\\users\\g.g. sunder\\appdata\\local\\pip\\cache\\wheels\\4b\\a5\\2d\\4a070a801d3a3d93f033d3ee9728f470f514826e89952df3ea\n",
      "Successfully built imutils\n",
      "Installing collected packages: imutils\n",
      "Successfully installed imutils-0.5.4\n"
     ]
    }
   ],
   "source": [
    "!pip install imutils"
   ]
  },
  {
   "cell_type": "code",
   "execution_count": 13,
   "id": "82faa3f6",
   "metadata": {},
   "outputs": [
    {
     "name": "stdout",
     "output_type": "stream",
     "text": [
      "Requirement already satisfied: flask in e:\\anaconda\\lib\\site-packages (1.1.2)\n",
      "Requirement already satisfied: itsdangerous>=0.24 in e:\\anaconda\\lib\\site-packages (from flask) (2.0.1)\n",
      "Requirement already satisfied: click>=5.1 in e:\\anaconda\\lib\\site-packages (from flask) (8.0.3)\n",
      "Requirement already satisfied: Werkzeug>=0.15 in e:\\anaconda\\lib\\site-packages (from flask) (2.0.2)\n",
      "Requirement already satisfied: Jinja2>=2.10.1 in e:\\anaconda\\lib\\site-packages (from flask) (2.11.3)\n",
      "Requirement already satisfied: colorama in e:\\anaconda\\lib\\site-packages (from click>=5.1->flask) (0.4.4)\n",
      "Requirement already satisfied: MarkupSafe>=0.23 in e:\\anaconda\\lib\\site-packages (from Jinja2>=2.10.1->flask) (1.1.1)\n"
     ]
    }
   ],
   "source": [
    "!pip install flask"
   ]
  },
  {
   "cell_type": "markdown",
   "id": "41f3ef2f",
   "metadata": {},
   "source": [
    "# DATA AUGMENTATION"
   ]
  },
  {
   "cell_type": "code",
   "execution_count": 15,
   "id": "e17e5874",
   "metadata": {},
   "outputs": [],
   "source": [
    "from keras.preprocessing.image import ImageDataGenerator"
   ]
  },
  {
   "cell_type": "code",
   "execution_count": 18,
   "id": "278639df",
   "metadata": {},
   "outputs": [],
   "source": [
    "from tensorflow.keras.preprocessing.image import ImageDataGenerator"
   ]
  },
  {
   "cell_type": "code",
   "execution_count": 19,
   "id": "41a86f1d",
   "metadata": {},
   "outputs": [],
   "source": [
    "train_data_gen = ImageDataGenerator(rescale = 1./255,\n",
    "                                    zoom_range = 0.2,\n",
    "                                    horizontal_flip = True,\n",
    "                                    vertical_flip = True)"
   ]
  },
  {
   "cell_type": "code",
   "execution_count": 20,
   "id": "2dc53330",
   "metadata": {},
   "outputs": [],
   "source": [
    "test_datagen = ImageDataGenerator(rescale=1./255)"
   ]
  },
  {
   "cell_type": "code",
   "execution_count": 21,
   "id": "b4bdd1dd",
   "metadata": {},
   "outputs": [
    {
     "name": "stdout",
     "output_type": "stream",
     "text": [
      "Found 4317 images belonging to 5 classes.\n"
     ]
    }
   ],
   "source": [
    "xtrain = train_data_gen.flow_from_directory(r\"C:\\Users\\G.G. SUNDER\\flowers\",target_size=(64,64),\n",
    "                                           class_mode='categorical',\n",
    "                                           batch_size=100)"
   ]
  },
  {
   "cell_type": "code",
   "execution_count": 22,
   "id": "dd729a6a",
   "metadata": {},
   "outputs": [
    {
     "name": "stdout",
     "output_type": "stream",
     "text": [
      "Found 4317 images belonging to 5 classes.\n"
     ]
    }
   ],
   "source": [
    "xtest = test_datagen.flow_from_directory(r\"C:\\Users\\G.G. SUNDER\\flowers\",\n",
    "                                         target_size=(64,64),\n",
    "                                         class_mode='categorical',\n",
    "                                         batch_size=100)"
   ]
  },
  {
   "cell_type": "code",
   "execution_count": 23,
   "id": "590a3c89",
   "metadata": {},
   "outputs": [
    {
     "data": {
      "text/plain": [
       "{'daisy': 0, 'dandelion': 1, 'rose': 2, 'sunflower': 3, 'tulip': 4}"
      ]
     },
     "execution_count": 23,
     "metadata": {},
     "output_type": "execute_result"
    }
   ],
   "source": [
    "xtrain.class_indices"
   ]
  },
  {
   "cell_type": "markdown",
   "id": "25e684e4",
   "metadata": {},
   "source": [
    "# CNN MODEL"
   ]
  },
  {
   "cell_type": "code",
   "execution_count": 24,
   "id": "26fc2fcc",
   "metadata": {},
   "outputs": [],
   "source": [
    "from tensorflow.keras.models import Sequential\n",
    "from tensorflow.keras.layers import Convolution2D,MaxPooling2D,Flatten,Dense"
   ]
  },
  {
   "cell_type": "code",
   "execution_count": 25,
   "id": "47027545",
   "metadata": {},
   "outputs": [],
   "source": [
    "model = Sequential()\n",
    "model.add(Convolution2D(32,(3,3),activation = 'relu',input_shape = (64,64,3)))\n",
    "model.add(MaxPooling2D(pool_size = (2,2)))\n",
    "model.add(Flatten())\n",
    "model.add(Dense(300,activation = 'relu'))\n",
    "model.add(Dense(5,activation = 'softmax'))"
   ]
  },
  {
   "cell_type": "code",
   "execution_count": 26,
   "id": "0b330264",
   "metadata": {},
   "outputs": [],
   "source": [
    "model.compile(optimizer = 'adam',loss = 'categorical_crossentropy',metrics = ['accuracy'])"
   ]
  },
  {
   "cell_type": "code",
   "execution_count": 27,
   "id": "403dc6b8",
   "metadata": {},
   "outputs": [
    {
     "name": "stdout",
     "output_type": "stream",
     "text": [
      "Epoch 1/10\n",
      "44/44 [==============================] - 80s 2s/step - loss: 2.0344 - accuracy: 0.3771 - val_loss: 1.2202 - val_accuracy: 0.4966\n",
      "Epoch 2/10\n",
      "44/44 [==============================] - 68s 2s/step - loss: 1.1381 - accuracy: 0.5439 - val_loss: 1.0234 - val_accuracy: 0.6018\n",
      "Epoch 3/10\n",
      "44/44 [==============================] - 65s 1s/step - loss: 1.0296 - accuracy: 0.6041 - val_loss: 1.0732 - val_accuracy: 0.5930\n",
      "Epoch 4/10\n",
      "44/44 [==============================] - 73s 2s/step - loss: 0.9617 - accuracy: 0.6254 - val_loss: 0.9527 - val_accuracy: 0.6421\n",
      "Epoch 5/10\n",
      "44/44 [==============================] - 64s 1s/step - loss: 0.9283 - accuracy: 0.6391 - val_loss: 0.8663 - val_accuracy: 0.6732\n",
      "Epoch 6/10\n",
      "44/44 [==============================] - 64s 1s/step - loss: 0.8946 - accuracy: 0.6514 - val_loss: 0.8244 - val_accuracy: 0.6810\n",
      "Epoch 7/10\n",
      "44/44 [==============================] - 70s 2s/step - loss: 0.8614 - accuracy: 0.6648 - val_loss: 0.8863 - val_accuracy: 0.6646\n",
      "Epoch 8/10\n",
      "44/44 [==============================] - 79s 2s/step - loss: 0.8318 - accuracy: 0.6787 - val_loss: 0.8701 - val_accuracy: 0.6692\n",
      "Epoch 9/10\n",
      "44/44 [==============================] - 81s 2s/step - loss: 0.8292 - accuracy: 0.6801 - val_loss: 0.9244 - val_accuracy: 0.6653\n",
      "Epoch 10/10\n",
      "44/44 [==============================] - 78s 2s/step - loss: 0.7969 - accuracy: 0.6954 - val_loss: 0.7944 - val_accuracy: 0.7095\n"
     ]
    },
    {
     "data": {
      "text/plain": [
       "<keras.callbacks.History at 0x278c752a070>"
      ]
     },
     "execution_count": 27,
     "metadata": {},
     "output_type": "execute_result"
    }
   ],
   "source": [
    "model.fit(xtrain, steps_per_epoch = len(xtrain),epochs = 10,\n",
    "          validation_data = xtest,validation_steps = len(xtest))"
   ]
  },
  {
   "cell_type": "markdown",
   "id": "49e6fe5c",
   "metadata": {},
   "source": [
    "# MODEL TUNING\n"
   ]
  },
  {
   "cell_type": "code",
   "execution_count": 28,
   "id": "8b03e047",
   "metadata": {},
   "outputs": [],
   "source": [
    "from keras.callbacks import EarlyStopping, ReduceLROnPlateau\n",
    "early_stopping = EarlyStopping(monitor='val_accuracy',\n",
    "                        patience=5)\n",
    "reduce_lr = ReduceLROnPlateau(monitor='val_accuracy',\n",
    "                        patience=5,\n",
    "                        factor=0.5,min_lr=0.00001)\n",
    "\n",
    "callback = [reduce_lr,early_stopping]\n"
   ]
  },
  {
   "cell_type": "code",
   "execution_count": 29,
   "id": "4e0a1315",
   "metadata": {},
   "outputs": [
    {
     "name": "stderr",
     "output_type": "stream",
     "text": [
      "C:\\Users\\GG77DA~1.SUN\\AppData\\Local\\Temp/ipykernel_19428/147617075.py:1: UserWarning: `Model.fit_generator` is deprecated and will be removed in a future version. Please use `Model.fit`, which supports generators.\n",
      "  model.fit_generator(xtrain,steps_per_epoch=len(xtrain),epochs=10,callbacks=callback,validation_data=xtest,validation_steps=len(xtest))\n"
     ]
    },
    {
     "name": "stdout",
     "output_type": "stream",
     "text": [
      "Epoch 1/10\n",
      "44/44 [==============================] - 72s 2s/step - loss: 0.7742 - accuracy: 0.7040 - val_loss: 0.7431 - val_accuracy: 0.7234 - lr: 0.0010\n",
      "Epoch 2/10\n",
      "44/44 [==============================] - 72s 2s/step - loss: 0.7632 - accuracy: 0.7081 - val_loss: 0.7016 - val_accuracy: 0.7403 - lr: 0.0010\n",
      "Epoch 3/10\n",
      "44/44 [==============================] - 67s 2s/step - loss: 0.7511 - accuracy: 0.7197 - val_loss: 0.6951 - val_accuracy: 0.7382 - lr: 0.0010\n",
      "Epoch 4/10\n",
      "44/44 [==============================] - 67s 2s/step - loss: 0.7234 - accuracy: 0.7278 - val_loss: 0.6587 - val_accuracy: 0.7491 - lr: 0.0010\n",
      "Epoch 5/10\n",
      "44/44 [==============================] - 67s 2s/step - loss: 0.7061 - accuracy: 0.7380 - val_loss: 0.6494 - val_accuracy: 0.7540 - lr: 0.0010\n",
      "Epoch 6/10\n",
      "44/44 [==============================] - 67s 2s/step - loss: 0.7074 - accuracy: 0.7338 - val_loss: 0.7038 - val_accuracy: 0.7260 - lr: 0.0010\n",
      "Epoch 7/10\n",
      "44/44 [==============================] - 92s 2s/step - loss: 0.6986 - accuracy: 0.7290 - val_loss: 0.6432 - val_accuracy: 0.7542 - lr: 0.0010\n",
      "Epoch 8/10\n",
      "44/44 [==============================] - 139s 3s/step - loss: 0.6776 - accuracy: 0.7355 - val_loss: 0.6194 - val_accuracy: 0.7635 - lr: 0.0010\n",
      "Epoch 9/10\n",
      "44/44 [==============================] - 122s 3s/step - loss: 0.6555 - accuracy: 0.7540 - val_loss: 0.6829 - val_accuracy: 0.7514 - lr: 0.0010\n",
      "Epoch 10/10\n",
      "44/44 [==============================] - 153s 3s/step - loss: 0.6522 - accuracy: 0.7572 - val_loss: 0.5857 - val_accuracy: 0.7855 - lr: 0.0010\n"
     ]
    },
    {
     "data": {
      "text/plain": [
       "<keras.callbacks.History at 0x278d9a19be0>"
      ]
     },
     "execution_count": 29,
     "metadata": {},
     "output_type": "execute_result"
    }
   ],
   "source": [
    "model.fit_generator(xtrain,steps_per_epoch=len(xtrain),epochs=10,callbacks=callback,validation_data=xtest,validation_steps=len(xtest))"
   ]
  },
  {
   "cell_type": "markdown",
   "id": "03bbec27",
   "metadata": {},
   "source": [
    "# SAVING THE MODEL"
   ]
  },
  {
   "cell_type": "code",
   "execution_count": 30,
   "id": "5470841d",
   "metadata": {},
   "outputs": [],
   "source": [
    "model.save(\"flowerss.h5\")"
   ]
  },
  {
   "cell_type": "markdown",
   "id": "99bb1f17",
   "metadata": {},
   "source": [
    "# TESTING THE MODEL"
   ]
  },
  {
   "cell_type": "code",
   "execution_count": 31,
   "id": "438a872c",
   "metadata": {},
   "outputs": [],
   "source": [
    "from tensorflow.keras.models import load_model\n",
    "from tensorflow.keras.preprocessing import image\n",
    "import numpy as np"
   ]
  },
  {
   "cell_type": "code",
   "execution_count": 41,
   "id": "5758d631",
   "metadata": {},
   "outputs": [],
   "source": [
    "model = load_model(\"flowerss.h5\")"
   ]
  },
  {
   "cell_type": "code",
   "execution_count": 42,
   "id": "b5b39d0f",
   "metadata": {},
   "outputs": [],
   "source": [
    "img = image.load_img(\"175638423_058c07afb9.jpg\",target_size = (150,150))"
   ]
  },
  {
   "cell_type": "code",
   "execution_count": 43,
   "id": "4653cae4",
   "metadata": {},
   "outputs": [
    {
     "data": {
      "image/png": "[encoded data removed]",
      "text/plain": [
       "<PIL.Image.Image image mode=RGB size=150x150 at 0x278DA133BE0>"
      ]
     },
     "execution_count": 43,
     "metadata": {},
     "output_type": "execute_result"
    }
   ],
   "source": [
    "img"
   ]
  },
  {
   "cell_type": "code",
   "execution_count": 45,
   "id": "207cafbc",
   "metadata": {},
   "outputs": [
    {
     "name": "stdout",
     "output_type": "stream",
     "text": [
      "1/1 [==============================] - 1s 657ms/step\n"
     ]
    },
    {
     "data": {
      "text/plain": [
       "'tulip'"
      ]
     },
     "execution_count": 45,
     "metadata": {},
     "output_type": "execute_result"
    }
   ],
   "source": [
    "img = image.load_img(\"176458518_f81d4bff8e.jpg\",target_size = (64,64))\n",
    "x = image.img_to_array(img)\n",
    "x = np.expand_dims(x,axis = 0)\n",
    "pred = np.argmax(model.predict(x))\n",
    "op = ['daisy','dandelion','rose','sunflower','tulip']\n",
    "op[pred]"
   ]
  },
  {
   "cell_type": "code",
   "execution_count": 46,
   "id": "d65c373b",
   "metadata": {},
   "outputs": [
    {
     "name": "stdout",
     "output_type": "stream",
     "text": [
      "1/1 [==============================] - 0s 63ms/step\n"
     ]
    },
    {
     "data": {
      "text/plain": [
       "'sunflower'"
      ]
     },
     "execution_count": 46,
     "metadata": {},
     "output_type": "execute_result"
    }
   ],
   "source": [
    "img = image.load_img(\"15207766_fc2f1d692c_n.jpg\",target_size = (64,64))\n",
    "x = image.img_to_array(img)\n",
    "x = np.expand_dims(x,axis = 0)\n",
    "pred = np.argmax(model.predict(x))\n",
    "op = ['daisy','dandelion','rose','sunflower','tulip']\n",
    "op[pred]"
   ]
  },
  {
   "cell_type": "code",
   "execution_count": null,
   "id": "716d36b1",
   "metadata": {},
   "outputs": [],
   "source": []
  }
 ],
 "metadata": {
  "kernelspec": {
   "display_name": "Python 3 (ipykernel)",
   "language": "python",
   "name": "python3"
  },
  "language_info": {
   "codemirror_mode": {
    "name": "ipython",
    "version": 3
   },
   "file_extension": ".py",
   "mimetype": "text/x-python",
   "name": "python",
   "nbconvert_exporter": "python",
   "pygments_lexer": "ipython3",
   "version": "3.9.7"
  }
 },
 "nbformat": 4,
 "nbformat_minor": 5
}
